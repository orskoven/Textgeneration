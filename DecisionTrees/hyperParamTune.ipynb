{
    "cells": [
     {
      "cell_type": "markdown",
      "metadata": {},
      "source": [
       "# Interactive Random Forest Classifier on MNIST Dataset\n",
       "\n",
       "This notebook demonstrates the use of a Random Forest Classifier on the MNIST dataset. It allows interactive tuning of hyperparameters to understand their impact on model performance."
      ]
     },
     {
      "cell_type": "code",
      "execution_count": null,
      "metadata": {},
      "outputs": [],
      "source": [
       "# Import necessary libraries\n",
       "import numpy as np\n",
       "import matplotlib.pyplot as plt\n",
       "from sklearn.datasets import fetch_openml\n",
       "from sklearn.model_selection import train_test_split\n",
       "from sklearn.ensemble import RandomForestClassifier\n",
       "from sklearn.metrics import accuracy_score, confusion_matrix, classification_report\n",
       "from sklearn.preprocessing import StandardScaler\n",
       "import seaborn as sns\n",
       "from ipywidgets import interact, IntSlider, Dropdown\n",
       "import warnings\n",
       "warnings.filterwarnings('ignore')"
      ]
     },
     {
      "cell_type": "markdown",
      "metadata": {},
      "source": [
       "## Load and Preprocess the MNIST Dataset"
      ]
     },
     {
      "cell_type": "code",
      "execution_count": null,
      "metadata": {},
      "outputs": [],
      "source": [
       "# Load MNIST dataset\n",
       "mnist = fetch_openml('mnist_784', version=1, as_frame=False)\n",
       "X, y = mnist.data, mnist.target.astype(np.int8)\n",
       "\n",
       "# Normalize the data\n",
       "scaler = StandardScaler()\n",
       "X_scaled = scaler.fit_transform(X)\n",
       "\n",
       "# Split into training and test sets\n",
       "X_train, X_test, y_train, y_test = train_test_split(X_scaled, y, test_size=0.2, random_state=42)\n",
       "\n",
       "print(f\"Training set size: {X_train.shape[0]} samples\")\n",
       "print(f\"Test set size: {X_test.shape[0]} samples\")"
      ]
     },
     {
      "cell_type": "markdown",
      "metadata": {},
      "source": [
       "## Define Function to Train and Evaluate the Model"
      ]
     },
     {
      "cell_type": "code",
      "execution_count": null,
      "metadata": {},
      "outputs": [],
      "source": [
       "def train_evaluate_rf(n_estimators, max_depth, max_features):\n",
       "    \"\"\"\n",
       "    Train and evaluate a Random Forest classifier with given hyperparameters.\n",
       "    \"\"\"\n",
       "    # Initialize the model\n",
       "    rf = RandomForestClassifier(\n",
       "        n_estimators=n_estimators,\n",
       "        max_depth=max_depth if max_depth > 0 else None,\n",
       "        max_features=max_features,\n",
       "        random_state=42,\n",
       "        n_jobs=-1\n",
       "    )\n",
       "    \n",
       "    # Train the model\n",
       "    rf.fit(X_train, y_train)\n",
       "    \n",
       "    # Predict on the test set\n",
       "    y_pred = rf.predict(X_test)\n",
       "    \n",
       "    # Calculate accuracy\n",
       "    accuracy = accuracy_score(y_test, y_pred)\n",
       "    print(f\"Accuracy: {accuracy * 100:.2f}%\")\n",
       "    \n",
       "    # Display confusion matrix\n",
       "    cm = confusion_matrix(y_test, y_pred)\n",
       "    plt.figure(figsize=(10, 7))\n",
       "    sns.heatmap(cm, annot=True, fmt='d', cmap='Blues', cbar=False)\n",
       "    plt.xlabel('Predicted')\n",
       "    plt.ylabel('Actual')\n",
       "    plt.title('Confusion Matrix')\n",
       "    plt.show()\n",
       "    \n",
       "    # Display classification report\n",
       "    print(\"Classification Report:\")\n",
       "    print(classification_report(y_test, y_pred))"
      ]
     },
     {
      "cell_type": "markdown",
      "metadata": {},
      "source": [
       "## Interactive Widget for Hyperparameter Tuning"
      ]
     },
     {
      "cell_type": "code",
      "execution_count": null,
      "metadata": {},
      "outputs": [],
      "source": [
       "# Define sliders and dropdowns for hyperparameters\n",
       "n_estimators_slider = IntSlider(\n",
       "    value=100,\n",
       "    min=10,\n",
       "    max=500,\n",
       "    step=10,\n",
       "    description='n_estimators'\n",
       ")\n",
       "\n",
       "max_depth_slider = IntSlider(\n",
       "    value=10,\n",
       "    min=0,\n",
       "    max=50,\n",
       "    step=1,\n",
       "    description='max_depth'\n",
       ")\n",
       "\n",
       "max_features_dropdown = Dropdown(\n",
       "    options=['auto', 'sqrt', 'log2'],\n",
       "    value='auto',\n",
       "    description='max_features'\n",
       ")\n",
       "\n",
       "# Create interactive widget\n",
       "interact(\n",
       "    train_evaluate_rf,\n",
       "    n_estimators=n_estimators_slider,\n",
       "    max_depth=max_depth_slider,\n",
       "    max_features=max_features_dropdown\n",
       ");"
      ]
     }
    ],
    "metadata": {
     "kernelspec": {
      "display_name": "Python 3",
      "language": "python",
      "name": "python3"
     },
     "language_info": {
      "codemirror_mode": {
       "name": "ipython",
       "version": 3
      },
      "file_extension": ".py",
      "mimetype": "text/x-python",
      "name": "python",
      "nbconvert_exporter": "python",
      "pygments_lexer": "ipython3",
      "version": "3.8.5"
     }
    },
    "nbformat": 4,
    "nbformat_minor": 4
   }
   